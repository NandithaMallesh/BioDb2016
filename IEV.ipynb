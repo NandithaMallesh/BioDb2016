{
 "cells": [
  {
   "cell_type": "code",
   "execution_count": null,
   "metadata": {
    "collapsed": false
   },
   "outputs": [],
   "source": [
    "with open('rosalind_iev.txt') as input_data:\n",
    "     s = input_data.read().split()\n",
    "\n",
    "# Probabilities of Child Dominant Genotype\n",
    "# ----------------------------------------\n",
    "# s[0]: AA-AA -> 100% chance of dominant\n",
    "# s[1]: AA-Aa -> 100%\n",
    "# s[2]: AA-aa -> 100%\n",
    "# s[3]: Aa-Aa -> 75%\n",
    "# s[4]: Aa-aa -> 50%\n",
    "# s[5]: aa-aa -> 0%\n",
    "\n",
    "p_list = [1, 1, 1, 0.75, 0.5, 0]\n",
    "EV_list =[]\n",
    "\n",
    "# A simple application of expected value.\n",
    "for index, num_parents in enumerate(s):\n",
    "    EV_list.append(2*int(num_parents)*p_list[index])\n",
    "\n",
    "print (sum(EV_list))"
   ]
  },
  {
   "cell_type": "code",
   "execution_count": null,
   "metadata": {
    "collapsed": true
   },
   "outputs": [],
   "source": []
  }
 ],
 "metadata": {
  "kernelspec": {
   "display_name": "Python 3",
   "language": "python",
   "name": "python3"
  },
  "language_info": {
   "codemirror_mode": {
    "name": "ipython",
    "version": 3
   },
   "file_extension": ".py",
   "mimetype": "text/x-python",
   "name": "python",
   "nbconvert_exporter": "python",
   "pygments_lexer": "ipython3",
   "version": "3.5.2"
  }
 },
 "nbformat": 4,
 "nbformat_minor": 1
}
