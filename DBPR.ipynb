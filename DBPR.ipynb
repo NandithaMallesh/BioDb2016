{
 "cells": [
  {
   "cell_type": "code",
   "execution_count": null,
   "metadata": {
    "collapsed": false
   },
   "outputs": [],
   "source": [
    "from urllib.request import urlopen\n",
    "import re\n",
    "\n",
    "file=open(\"rosalind_dbpr.txt\")\n",
    "\n",
    "gene_name = file.read().strip()\n",
    "output = urlopen('http://www.uniprot.org/uniprot/' + gene_name + '.txt').read()\n",
    "data = output.decode('utf-8')\n",
    "\n",
    "for line in re.finditer(\"P:([a-zA-Z\\W ]*)\", data):\n",
    "    for ele in line.groups():\n",
    "        ele=ele.split(\";\")\n",
    "        print(ele[0])"
   ]
  },
  {
   "cell_type": "code",
   "execution_count": null,
   "metadata": {
    "collapsed": true
   },
   "outputs": [],
   "source": []
  }
 ],
 "metadata": {
  "kernelspec": {
   "display_name": "Python 3",
   "language": "python",
   "name": "python3"
  },
  "language_info": {
   "codemirror_mode": {
    "name": "ipython",
    "version": 3
   },
   "file_extension": ".py",
   "mimetype": "text/x-python",
   "name": "python",
   "nbconvert_exporter": "python",
   "pygments_lexer": "ipython3",
   "version": "3.5.2"
  }
 },
 "nbformat": 4,
 "nbformat_minor": 1
}
