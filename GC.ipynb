{
 "cells": [
  {
   "cell_type": "code",
   "execution_count": 37,
   "metadata": {
    "collapsed": false
   },
   "outputs": [
    {
     "name": "stdout",
     "output_type": "stream",
     "text": [
      "Rosalind_2509\n",
      "51.14006514657981\n"
     ]
    }
   ],
   "source": [
    "(head,num,d,e) = (\"\",0,{},{})\n",
    "file=open(\"rosalind_gc.txt\", 'r')\n",
    "for line in file:\n",
    "    if line.startswith(\">\"):\n",
    "        head = line[1:-1]\n",
    "    else:\n",
    "        if head in d.keys():\n",
    "            d[head]+=line.strip()\n",
    "        else:\n",
    "            d[head]=line.strip()\n",
    "#get GC content\n",
    "for key,value in d.items():\n",
    "    num=0\n",
    "    for x in range(0,len(value)):\n",
    "        if value[x]==\"G\" or value[x]==\"C\":\n",
    "            num+=1\n",
    "        e[key]=num*100.0/len(value)\n",
    "\n",
    "answer_key = [x for x,y in e.items() if y ==max(e.values())]\n",
    "print (\"\".join(answer_key))\n",
    "print (max(e.values()))"
   ]
  },
  {
   "cell_type": "code",
   "execution_count": null,
   "metadata": {
    "collapsed": true
   },
   "outputs": [],
   "source": []
  }
 ],
 "metadata": {
  "kernelspec": {
   "display_name": "Python 3",
   "language": "python",
   "name": "python3"
  },
  "language_info": {
   "codemirror_mode": {
    "name": "ipython",
    "version": 3
   },
   "file_extension": ".py",
   "mimetype": "text/x-python",
   "name": "python",
   "nbconvert_exporter": "python",
   "pygments_lexer": "ipython3",
   "version": "3.5.2"
  }
 },
 "nbformat": 4,
 "nbformat_minor": 1
}
