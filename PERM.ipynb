{
 "cells": [
  {
   "cell_type": "code",
   "execution_count": null,
   "metadata": {
    "collapsed": false
   },
   "outputs": [],
   "source": [
    "from itertools import permutations\n",
    "from math import factorial\n",
    "\n",
    "\n",
    "\n",
    "f= open('rosalind_perm.txt','r')\n",
    "n=int(f.read().strip())\n",
    "seq = range(1, n+1)\n",
    "\n",
    "# how many possible combinations\n",
    "print (factorial(n))\n",
    "\n",
    "# evaluate all permutations\n",
    "for perm in permutations(seq):\n",
    "    print (\" \".join(map(str, perm)))"
   ]
  },
  {
   "cell_type": "code",
   "execution_count": null,
   "metadata": {
    "collapsed": true
   },
   "outputs": [],
   "source": []
  }
 ],
 "metadata": {
  "kernelspec": {
   "display_name": "Python 3",
   "language": "python",
   "name": "python3"
  },
  "language_info": {
   "codemirror_mode": {
    "name": "ipython",
    "version": 3
   },
   "file_extension": ".py",
   "mimetype": "text/x-python",
   "name": "python",
   "nbconvert_exporter": "python",
   "pygments_lexer": "ipython3",
   "version": "3.5.2"
  }
 },
 "nbformat": 4,
 "nbformat_minor": 1
}
