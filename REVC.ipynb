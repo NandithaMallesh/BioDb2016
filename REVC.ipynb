{
 "cells": [
  {
   "cell_type": "code",
   "execution_count": 26,
   "metadata": {
    "collapsed": false
   },
   "outputs": [
    {
     "name": "stdout",
     "output_type": "stream",
     "text": [
      "AGTTCATTAAAGGTTCGCCTGAGTATCGTGATGTAAGAGTCGCGCTGATCAATGGGCGTAGTCCGCAGAGTGCCTGTCGTTAAATACTCGTATGTGTCAGCTGGCTTATCCCGCTATACCCTATGGCTTACCGAAAGTCATCAGGAGATGTTCCCTGGAAGCGGAACAGAGGGTCGTCATTACTTTAGACCTTTGTCGTTTATAGATCACATTCCGTCACGGACGCAATCGGCCTATACCGTCCGCTGTGGCAACTTTTAGGTTTCACACCAGGTACTGCCTCCAGATCGCGTTTCCGCCCGTGAATGACAGGCAGGATTAAATACGTTTCGTTCCGTATTGCGTATTTATGCCCTCTCCGTACCCTAAAGCATCCGCTTAATACTTCTATGATGAATGTACCCGCCAATTCTTGACTTCGAGAATGCACACGTTGGCCGTACGAGGCAGTGACTTGTCCGGCACGCATCACCGTGGTGATCCATAAGCTCATCAGGTTGCCGGTTCGGCAATAGTATCCCCGGCCCACTCGCTGATCCCATATCTTACAGGATGCATAAGAACTGTAAATCGGGGTAGCAAAAAGAAAATGTAGCAGTATGAGTCAAGGTTACTCGTTGATGGCAATCTCGAAAAGTATACACTGGTACGGCCCAGCGATAAAGCAACGCATATGGTCAGGCGCCTTCTTGTGGCGCGCCTCTCTGCCATTAGTTAGTGAGAGCAGCCAGCCGAAACACCAATAGTCTAGCAGCTTCAGTTTGTATTCTACAGAGGTCGAGGCATATAGTACAAAGTTTACGCCTAGATCACTGCCAAAGGGCTTTTTCGCACCAAACTGCTATGGCAGATCCGCC\n"
     ]
    }
   ],
   "source": [
    "def complimentStrand(filePath):\n",
    "    compliment={'A':'T',\n",
    "                'C':'G',\n",
    "                'G':'C',\n",
    "                'T':'A'\n",
    "               }\n",
    "    with open(filePath) as data:\n",
    "        for line in data:\n",
    "            line=line.strip()\n",
    "            reverse_complement = \"\".join(compliment.get(base, base) for base in reversed(line))\n",
    "            print(reverse_complement)\n",
    "            \n",
    "complimentStrand(\"rosalind_revc.txt\")"
   ]
  },
  {
   "cell_type": "code",
   "execution_count": null,
   "metadata": {
    "collapsed": true
   },
   "outputs": [],
   "source": []
  }
 ],
 "metadata": {
  "kernelspec": {
   "display_name": "Python 3",
   "language": "python",
   "name": "python3"
  },
  "language_info": {
   "codemirror_mode": {
    "name": "ipython",
    "version": 3
   },
   "file_extension": ".py",
   "mimetype": "text/x-python",
   "name": "python",
   "nbconvert_exporter": "python",
   "pygments_lexer": "ipython3",
   "version": "3.5.2"
  }
 },
 "nbformat": 4,
 "nbformat_minor": 1
}
