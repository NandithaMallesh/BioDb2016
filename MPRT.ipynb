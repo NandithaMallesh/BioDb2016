{
 "cells": [
  {
   "cell_type": "code",
   "execution_count": 35,
   "metadata": {
    "collapsed": false
   },
   "outputs": [
    {
     "name": "stdout",
     "output_type": "stream",
     "text": [
      "P19827_ITH1_HUMAN\n",
      "285 588 750\n",
      "P01046_KNL1_BOVIN\n",
      "47 87 168 169 197 204\n",
      "Q16775\n",
      "41\n",
      "P02974_FMM1_NEIGO\n",
      "67 68 121\n",
      "P72173\n",
      "87 284 383\n",
      "P01866_GCB_MOUSE\n",
      "185\n",
      "P02725_GLP_PIG\n",
      "16 19 39\n",
      "P14210_HGF_HUMAN\n",
      "294 402 566 653\n",
      "P07306_LECH_HUMAN\n",
      "79 147\n",
      "P01044_KNH1_BOVIN\n",
      "47 87 168 169 197 204\n"
     ]
    }
   ],
   "source": [
    "import re\n",
    "import requests\n",
    "from Bio import SeqIO\n",
    "from io import StringIO\n",
    "\n",
    "\n",
    "motif = re.compile('(?=N[^P][ST][^P])')\n",
    "\n",
    "fid = open('rosalind_mprt.txt','r')\n",
    "accs = fid.read().strip().split('\\n')\n",
    "fid.close()\n",
    "\n",
    "\n",
    "for acc in accs:\n",
    "    r = requests.get('http://www.uniprot.org/uniprot/%s.fasta' % acc)\n",
    "    raw_data = SeqIO.read(StringIO(r.text), 'fasta')\n",
    "    locations = []\n",
    "    \n",
    "    # Use search instead of match to search entire string\n",
    "    if re.search(motif, str(raw_data.seq)):\n",
    "        print(acc.strip())\n",
    "        for m in re.finditer(motif, str(raw_data.seq)):\n",
    "            locations.append(m.start()+1)\n",
    "        print(\" \".join(map(str, locations)))"
   ]
  },
  {
   "cell_type": "code",
   "execution_count": null,
   "metadata": {
    "collapsed": true
   },
   "outputs": [],
   "source": []
  }
 ],
 "metadata": {
  "kernelspec": {
   "display_name": "Python 3",
   "language": "python",
   "name": "python3"
  },
  "language_info": {
   "codemirror_mode": {
    "name": "ipython",
    "version": 3
   },
   "file_extension": ".py",
   "mimetype": "text/x-python",
   "name": "python",
   "nbconvert_exporter": "python",
   "pygments_lexer": "ipython3",
   "version": "3.5.2"
  }
 },
 "nbformat": 4,
 "nbformat_minor": 1
}
