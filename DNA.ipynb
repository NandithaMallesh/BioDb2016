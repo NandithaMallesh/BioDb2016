{
 "cells": [
  {
   "cell_type": "code",
   "execution_count": 22,
   "metadata": {
    "collapsed": false
   },
   "outputs": [
    {
     "name": "stdout",
     "output_type": "stream",
     "text": [
      "[('A', 266), ('C', 230), ('G', 247), ('T', 243)]\n"
     ]
    }
   ],
   "source": [
    "def countNucleotides(filePath):\n",
    "    nucleotide=['A','C','G','T']\n",
    "    with open(filePath) as data:\n",
    "        for line in data:\n",
    "            print([(char,line.count(char)) for char in nucleotide])\n",
    "            \n",
    "            \n",
    "countNucleotides(\"rosalind_dna.txt\")"
   ]
  },
  {
   "cell_type": "code",
   "execution_count": null,
   "metadata": {
    "collapsed": true
   },
   "outputs": [],
   "source": []
  }
 ],
 "metadata": {
  "kernelspec": {
   "display_name": "Python 3",
   "language": "python",
   "name": "python3"
  },
  "language_info": {
   "codemirror_mode": {
    "name": "ipython",
    "version": 3
   },
   "file_extension": ".py",
   "mimetype": "text/x-python",
   "name": "python",
   "nbconvert_exporter": "python",
   "pygments_lexer": "ipython3",
   "version": "3.5.2"
  }
 },
 "nbformat": 4,
 "nbformat_minor": 1
}
