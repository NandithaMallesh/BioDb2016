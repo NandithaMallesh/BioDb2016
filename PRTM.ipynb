{
 "cells": [
  {
   "cell_type": "code",
   "execution_count": 1,
   "metadata": {
    "collapsed": false
   },
   "outputs": [
    {
     "name": "stdout",
     "output_type": "stream",
     "text": [
      "106735.81311000041\n"
     ]
    }
   ],
   "source": [
    "f = open(\"protein_mass_table.txt\", 'r')\n",
    "aa_mass_dict = {}\n",
    "for line in f.readlines():\n",
    "    data = line.rstrip().split()\n",
    "    aa_mass_dict[data[0]] = data[1]\n",
    "f.close()\n",
    "\n",
    "# open sequence\n",
    "f = open(\"rosalind_prtm.txt\", 'r')\n",
    "protein = f.readline().rstrip()\n",
    "f.close()\n",
    "\n",
    "mw = 0\n",
    "for letter in protein: # iterate through each letter and add weight of aa\n",
    "    mw += float(aa_mass_dict[letter])\n",
    "\n",
    "print(mw)"
   ]
  },
  {
   "cell_type": "code",
   "execution_count": null,
   "metadata": {
    "collapsed": true
   },
   "outputs": [],
   "source": []
  }
 ],
 "metadata": {
  "kernelspec": {
   "display_name": "Python 3",
   "language": "python",
   "name": "python3"
  },
  "language_info": {
   "codemirror_mode": {
    "name": "ipython",
    "version": 3
   },
   "file_extension": ".py",
   "mimetype": "text/x-python",
   "name": "python",
   "nbconvert_exporter": "python",
   "pygments_lexer": "ipython3",
   "version": "3.5.2"
  }
 },
 "nbformat": 4,
 "nbformat_minor": 1
}
