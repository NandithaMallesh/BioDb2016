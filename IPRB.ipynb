{
 "cells": [
  {
   "cell_type": "code",
   "execution_count": null,
   "metadata": {
    "collapsed": false
   },
   "outputs": [],
   "source": [
    "def mend_first_law(k, m, n):    \n",
    "    c = k + m + n    \n",
    "    p1 = n/c * (0.5 * m / (c - 1) + (n - 1) / (c - 1)) \n",
    "    p2 = 0.5 * m/c * (0.5 * (m - 1) / (c - 1) + n / (c - 1)) \n",
    "    return 1 - (p1 + p2)\n",
    "\n",
    "print (mend_first_law(2,2,2))"
   ]
  },
  {
   "cell_type": "code",
   "execution_count": null,
   "metadata": {
    "collapsed": true
   },
   "outputs": [],
   "source": []
  }
 ],
 "metadata": {
  "kernelspec": {
   "display_name": "Python 3",
   "language": "python",
   "name": "python3"
  },
  "language_info": {
   "codemirror_mode": {
    "name": "ipython",
    "version": 3
   },
   "file_extension": ".py",
   "mimetype": "text/x-python",
   "name": "python",
   "nbconvert_exporter": "python",
   "pygments_lexer": "ipython3",
   "version": "3.5.2"
  }
 },
 "nbformat": 4,
 "nbformat_minor": 1
}
