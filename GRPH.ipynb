{
 "cells": [
  {
   "cell_type": "code",
   "execution_count": null,
   "metadata": {
    "collapsed": false
   },
   "outputs": [],
   "source": [
    "from Bio import SeqIO\n",
    "\n",
    "# Data is in FASTA form\n",
    "\n",
    "def adjacency_list(k, input_handle):\n",
    "    seqs = list(SeqIO.parse(input_handle, \"fasta\"))\n",
    "\n",
    "    for value in range(len(seqs)-1): # iterate through all combinations\n",
    "        for inner_value in range(len(seqs)):\n",
    "            # check to make sure sequences aren't the same\n",
    "            if seqs[value].seq.tostring() != seqs[inner_value].seq.tostring():\n",
    "                # check if sequences contain overlap\n",
    "                if seqs[value].seq.tostring()[:k] == seqs[inner_value].seq.tostring()[-k:]:\n",
    "                    # save just the sequence id's\n",
    "                    print(\" \".join([seqs[inner_value].id, seqs[value].id]))\n",
    "            else:\n",
    "                continue\n",
    "\n",
    "k = 3\n",
    "input_handle=\"rosalind_grph.txt\"\n",
    "adjacency_list(k, input_handle)"
   ]
  }
 ],
 "metadata": {
  "kernelspec": {
   "display_name": "Python 3",
   "language": "python",
   "name": "python3"
  },
  "language_info": {
   "codemirror_mode": {
    "name": "ipython",
    "version": 3
   },
   "file_extension": ".py",
   "mimetype": "text/x-python",
   "name": "python",
   "nbconvert_exporter": "python",
   "pygments_lexer": "ipython3",
   "version": "3.5.2"
  }
 },
 "nbformat": 4,
 "nbformat_minor": 1
}
