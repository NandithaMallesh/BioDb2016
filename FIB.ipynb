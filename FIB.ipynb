{
 "cells": [
  {
   "cell_type": "code",
   "execution_count": null,
   "metadata": {
    "collapsed": false
   },
   "outputs": [],
   "source": [
    "def fib_rabbits(n,k):\n",
    "    rabbits = [0,1]\n",
    "    for i in range(n-1):\n",
    "        rabbits[i % 2] = rabbits[(i-1) % 2] + k*rabbits[i % 2]\n",
    "\n",
    "    return rabbits[n % 2]\n",
    "\n",
    "with open('rosalind_fib.txt') as input_data:\n",
    "        n, k = map(int, input_data.read().strip().split())\n",
    "\n",
    "# Get the number of rabbits.\n",
    "rabbits = str(fib_rabbits(n,k))\n",
    "\n",
    "# Print and save the answer.\n",
    "print (rabbits)"
   ]
  },
  {
   "cell_type": "code",
   "execution_count": null,
   "metadata": {
    "collapsed": true
   },
   "outputs": [],
   "source": []
  }
 ],
 "metadata": {
  "kernelspec": {
   "display_name": "Python 3",
   "language": "python",
   "name": "python3"
  },
  "language_info": {
   "codemirror_mode": {
    "name": "ipython",
    "version": 3
   },
   "file_extension": ".py",
   "mimetype": "text/x-python",
   "name": "python",
   "nbconvert_exporter": "python",
   "pygments_lexer": "ipython3",
   "version": "3.5.2"
  }
 },
 "nbformat": 4,
 "nbformat_minor": 1
}
