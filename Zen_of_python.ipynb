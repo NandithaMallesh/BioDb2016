{
 "cells": [
  {
   "cell_type": "markdown",
   "metadata": {},
   "source": [
    "## Namespaces are one honking great idea -- let's do more of those!"
   ]
  },
  {
   "cell_type": "markdown",
   "metadata": {},
   "source": [
    "###  What is a Namespace?\n",
    "\n",
    "Generally speaking, a namespace is a naming system for making names unique to avoid ambiguity.\n",
    "\n",
    "Each namespace is completely isolated. So two modules can have the same names within them.\n",
    "\n",
    "Example: You can have a module called Integer and a module called FloatingPoint and both could have a function named add(). Once you import the module into your script, you can access the names by prefixing them with the module name: FloatingPoint.add() and Integer.add()."
   ]
  },
  {
   "cell_type": "code",
   "execution_count": 5,
   "metadata": {
    "collapsed": false
   },
   "outputs": [],
   "source": [
    "#perfectly valid to have same names in different name spaces: - can be classes, functions, modules\n",
    "\n",
    "class myclass_one:\n",
    "    myname=\"one\"\n",
    "    \n",
    "class myclass_two:\n",
    "    myname=\"two\""
   ]
  },
  {
   "cell_type": "code",
   "execution_count": 6,
   "metadata": {
    "collapsed": false
   },
   "outputs": [
    {
     "name": "stdout",
     "output_type": "stream",
     "text": [
      "1\n",
      "2\n"
     ]
    }
   ],
   "source": [
    "def fun_one():\n",
    "    var_one = 1\n",
    "    print(var_one)\n",
    "\n",
    "def fun_two():\n",
    "    var_one = 2\n",
    "    print(var_one)\n",
    "    \n",
    "fun_one()\n",
    "fun_two()"
   ]
  },
  {
   "cell_type": "markdown",
   "metadata": {},
   "source": [
    "### Accessing names using namespaes:\n",
    "\n",
    "Namespaces can make code a lot clearer to use:"
   ]
  },
  {
   "cell_type": "code",
   "execution_count": null,
   "metadata": {
    "collapsed": true
   },
   "outputs": [],
   "source": [
    "load(fh) # what does this do??\n",
    "\n",
    "pickle.load(fh) ## a lot more clear now wat this is doing"
   ]
  }
 ],
 "metadata": {
  "kernelspec": {
   "display_name": "Python 3",
   "language": "python",
   "name": "python3"
  },
  "language_info": {
   "codemirror_mode": {
    "name": "ipython",
    "version": 3
   },
   "file_extension": ".py",
   "mimetype": "text/x-python",
   "name": "python",
   "nbconvert_exporter": "python",
   "pygments_lexer": "ipython3",
   "version": "3.5.2"
  }
 },
 "nbformat": 4,
 "nbformat_minor": 1
}
