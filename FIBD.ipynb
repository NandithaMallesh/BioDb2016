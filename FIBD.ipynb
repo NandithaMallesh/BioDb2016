{
 "cells": [
  {
   "cell_type": "code",
   "execution_count": null,
   "metadata": {
    "collapsed": false
   },
   "outputs": [],
   "source": [
    "# n - how many months\n",
    "# m - lifespan in months\n",
    "# one month to reach reproductive maturity\n",
    "# only produce a single pair of offspring (male & female)\n",
    "\n",
    "def fib_mortal(n,m):\n",
    "    fib_table = []\n",
    "    for i in range(n):\n",
    "        if i < 2:\n",
    "            fib_table.append(1)\n",
    "        elif i < m:\n",
    "            fib_table.append(fib_table[-2] + fib_table[-1])\n",
    "        elif i == m or i == m+1:\n",
    "            fib_table.append((fib_table[-2] + fib_table[-1]) - 1)\n",
    "        else:\n",
    "            fib_table.append((fib_table[-2] + fib_table[-1]) - fib_table[-(m+1)])\n",
    "    return fib_table\n",
    "\n",
    "with open('rosalind_fibd.txt') as input_data:\n",
    "    n,m = map(int, input_data.read().split())\n",
    "rabbit_table=fib_mortal(n,m)\n",
    "print(rabbit_table[-1])"
   ]
  }
 ],
 "metadata": {
  "kernelspec": {
   "display_name": "Python 3",
   "language": "python",
   "name": "python3"
  },
  "language_info": {
   "codemirror_mode": {
    "name": "ipython",
    "version": 3
   },
   "file_extension": ".py",
   "mimetype": "text/x-python",
   "name": "python",
   "nbconvert_exporter": "python",
   "pygments_lexer": "ipython3",
   "version": "3.5.2"
  }
 },
 "nbformat": 4,
 "nbformat_minor": 1
}
