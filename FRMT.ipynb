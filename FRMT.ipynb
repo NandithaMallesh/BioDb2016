{
 "cells": [
  {
   "cell_type": "code",
   "execution_count": 4,
   "metadata": {
    "collapsed": false
   },
   "outputs": [
    {
     "name": "stdout",
     "output_type": "stream",
     "text": [
      ">gi|405132182|gb|JX462669.1| Belgica antarctica ribosomal protein 49 (rp49) mRNA, complete cds\n",
      "ATGGCAGTTCGACCAGCATTCAAACCCAAAATCATCAAAAAGAGAACGAAGAAGTTCATCCGCCATCAGT\n",
      "CGGACCGATATGACAAAGTCAAGGAAGCTTGGCGCAAGCCCAAGGGTATTGACAACAGAGTCAGACGTCG\n",
      "CTTTAAGGGACAGTACCTGATGCCAAACATCGGCTACGGTTCCAACGCCAAGACCCGCCACATGCTCCCC\n",
      "AACGGCTTCAAGAAGTTCACCGTCAACAACGTCCGCGAGTTGGAGGTCTTGATGATGCAAAACCGCGTTT\n",
      "ACTGCGCCGAGGTCGCTCACGCCGTCAGCGCCAAGAAGCGTAAGCTGATCTGCGAACGTGCTAAGCAGCT\n",
      "GGGAATCCGTGTGACCAACTTCCACGCAAGAATGCGATCACAGGAAAATGAGTAA\n"
     ]
    }
   ],
   "source": [
    "from Bio import Entrez\n",
    "from Bio import SeqIO\n",
    "\n",
    "with open('rosalind_frmt.txt') as input_data:\n",
    "    IDs = input_data.read().strip().split()\n",
    "\n",
    "Entrez.email = 'nanditha.mallesh@gmail.com'\n",
    "handle = Entrez.efetch(db='nucleotide', id=IDs, rettype='fasta')\n",
    "records = list(SeqIO.parse(handle, 'fasta'))\n",
    "\n",
    "[min_index] = [i for i in range(len(records)) if len(records[i]) == min([len(record.seq) for record in records])]\n",
    "\n",
    "handle2 = Entrez.efetch(db='nucleotide', id=IDs, rettype='fasta')\n",
    "minFASTA = handle2.read().strip().split('\\n\\n')[min_index]\n",
    "\n",
    "print(minFASTA)"
   ]
  },
  {
   "cell_type": "code",
   "execution_count": null,
   "metadata": {
    "collapsed": true
   },
   "outputs": [],
   "source": []
  }
 ],
 "metadata": {
  "kernelspec": {
   "display_name": "Python 3",
   "language": "python",
   "name": "python3"
  },
  "language_info": {
   "codemirror_mode": {
    "name": "ipython",
    "version": 3
   },
   "file_extension": ".py",
   "mimetype": "text/x-python",
   "name": "python",
   "nbconvert_exporter": "python",
   "pygments_lexer": "ipython3",
   "version": "3.5.2"
  }
 },
 "nbformat": 4,
 "nbformat_minor": 1
}
