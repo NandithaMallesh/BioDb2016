{
 "cells": [
  {
   "cell_type": "code",
   "execution_count": null,
   "metadata": {
    "collapsed": false
   },
   "outputs": [],
   "source": [
    "from Bio import motifs\n",
    "from Bio.Seq import Seq\n",
    "import Bio.Alphabet\n",
    "\n",
    "f = open(\"rosalind_cons.txt\", 'r')\n",
    "raw_data = f.readlines()\n",
    "f.close()\n",
    "\n",
    "motif_dict = {}\n",
    "cur_key = ''\n",
    "\n",
    "#create dic with id as key and seq as value\n",
    "for i in raw_data:\n",
    "    if i[0] == '>':\n",
    "        cur_key = i[1:].rstrip()\n",
    "        motif_dict[cur_key] = '' \n",
    "    else:\n",
    "        motif_dict[cur_key] += i.rstrip()\n",
    "\n",
    "# create motifs instances\n",
    "instances = []\n",
    "for seq in motif_dict.values():\n",
    "    instances.append(Seq(seq))\n",
    "m = motifs.create(instances)\n",
    "\n",
    "\n",
    "profile = m.counts # creates a profile matrix\n",
    "consensus = m.consensus\n",
    "\n",
    "print (consensus)\n",
    "for key, value in profile.items():\n",
    "    # must convert integers to str for concatenating\n",
    "    print ( \"\".join(key + \": \" + \" \".join(map(str, value))))"
   ]
  }
 ],
 "metadata": {
  "kernelspec": {
   "display_name": "Python 3",
   "language": "python",
   "name": "python3"
  },
  "language_info": {
   "codemirror_mode": {
    "name": "ipython",
    "version": 3
   },
   "file_extension": ".py",
   "mimetype": "text/x-python",
   "name": "python",
   "nbconvert_exporter": "python",
   "pygments_lexer": "ipython3",
   "version": "3.5.2"
  }
 },
 "nbformat": 4,
 "nbformat_minor": 1
}
