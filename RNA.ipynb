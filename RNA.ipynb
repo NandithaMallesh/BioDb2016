{
 "cells": [
  {
   "cell_type": "code",
   "execution_count": 5,
   "metadata": {
    "collapsed": false
   },
   "outputs": [
    {
     "name": "stdout",
     "output_type": "stream",
     "text": [
      "transcribed RNA: CAGUGUCCGCCCUUGAAGGGAUAGCAGCCCCCUCGCUACGAAGUGUGCAUUAUGGCCCAUGUUCUGCAGUUGCUCAUGCUUUUGCGGCACUGCAUGUUGUGUCUUAAAAGCGAUGGAUUUCCUGGUCUCUCUUUUCCUCGGUUCCAACACUACUUCAUACGAACUGUUAUUGCGGGUUCGACUUCAGCGAUAGCAGCCCGAUUAUAGCCAGACCACAACCGCGCUUUAUGUUUGAGUCUGCAUUGGCGUGGCUACUCUGCGUUGAUACAAAUACCAUCCCGUUUAGUUCCUACGAGAUCUUGCCAAAGCGGCGUAUAUCAUAAGACCGCGUAACAUGACGAACUCAUCUGCUAUCGGCCACGCCGGGCCAUUUACAUCGUAACUUUGGGCAAGAAUAUACAGGCUGCUCCCUGAGCCCCGGGAGAGUAGCGCUGCCGCUACCUGGCGCAUUAAUCUGUAACGGAAUCCUAAGUGUAAGAUUCCCGCACACACGUAGAGUCACUUGCAUCGGACCUGGGAAAGGCGCCUAAAUAUGUUCAAUCGGCUUACCCACCAUAGGGUAGGCCGAACCGGACAACACUUGUGGCCUAGAACUAAUAGCUGCAGCAGUUUUUUACGUCACGGUCGGGUGUCGCUAAGGCGUGCUGAUACUCUCUUCAAUCUACGCAAAUGUGAACAUAGCUGAACCCAGGAUGUGACCUGCGCGACUGCGUUCCCCAAUAAGUCUAUUCCUUCGAUCGGUGAAAUGCGAAGUGCUCCUACUCCGGUCUGUCGUACCCGGGCGGGCUACCACAAUGAAGGUCCGUGGCCGGUUGUCGGUUUAGUCUCUAUAGGAAGACUAAGUCUCGGGCCACAGGCCGACUCCGCUACACUAACUUUCUAUUCCAAGCAGACCGCUCCUAAUCCCAAUUGUGGUGCUUUCCCUUAGGGGCAUUGGAAAGAGCUUGACAUUUUGAAGUAUUGCAAUCGAGGAGGCUUCGACCAUACUCCUAUGCG\n",
      "\n"
     ]
    }
   ],
   "source": [
    "def DNAtoRNA(filePath):\n",
    "    with open(filePath) as data:\n",
    "        for line in data:\n",
    "            print(\"transcribed RNA:\",line.replace('T','U'))\n",
    "                       \n",
    "            \n",
    "DNAtoRNA(\"rosalind_rna.txt\")"
   ]
  },
  {
   "cell_type": "code",
   "execution_count": null,
   "metadata": {
    "collapsed": true
   },
   "outputs": [],
   "source": []
  }
 ],
 "metadata": {
  "kernelspec": {
   "display_name": "Python 3",
   "language": "python",
   "name": "python3"
  },
  "language_info": {
   "codemirror_mode": {
    "name": "ipython",
    "version": 3
   },
   "file_extension": ".py",
   "mimetype": "text/x-python",
   "name": "python",
   "nbconvert_exporter": "python",
   "pygments_lexer": "ipython3",
   "version": "3.5.2"
  }
 },
 "nbformat": 4,
 "nbformat_minor": 1
}
